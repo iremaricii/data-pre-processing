{
  "nbformat": 4,
  "nbformat_minor": 0,
  "metadata": {
    "colab": {
      "provenance": [],
      "gpuType": "T4",
      "authorship_tag": "ABX9TyPOb0Vc1MSWo1XNI5BqBC3o",
      "include_colab_link": true
    },
    "kernelspec": {
      "name": "python3",
      "display_name": "Python 3"
    },
    "language_info": {
      "name": "python"
    },
    "accelerator": "GPU"
  },
  "cells": [
    {
      "cell_type": "markdown",
      "metadata": {
        "id": "view-in-github",
        "colab_type": "text"
      },
      "source": [
        "<a href=\"https://colab.research.google.com/github/iremaricii/data-pre-processing/blob/main/data_pre_processing.ipynb\" target=\"_parent\"><img src=\"https://colab.research.google.com/assets/colab-badge.svg\" alt=\"Open In Colab\"/></a>"
      ]
    },
    {
      "cell_type": "code",
      "execution_count": null,
      "metadata": {
        "id": "I6HfMTYBHA16",
        "collapsed": true
      },
      "outputs": [],
      "source": [
        "from google.colab import files\n",
        "uploaded = files.upload()"
      ]
    },
    {
      "cell_type": "code",
      "source": [
        "import pandas as pd\n",
        "import re\n",
        "\n",
        "df = pd.read_csv('dirty-dataset.csv', delimiter='|', dtype=str)"
      ],
      "metadata": {
        "id": "FD2qIxEWUV65"
      },
      "execution_count": 3,
      "outputs": []
    },
    {
      "cell_type": "code",
      "source": [
        "def akilli_temiz_ayir(name):\n",
        "    if not isinstance(name, str) or name.strip() == '':\n",
        "        return pd.Series(['Bilinmiyor', 'Bilinmiyor'])\n",
        "\n",
        "    # Özel karakter -- boşluk\n",
        "    cleaned = re.sub(r'[^A-Za-z]', ' ', name)\n",
        "    cleaned = re.sub(r'\\s+', ' ', cleaned).strip()\n",
        "\n",
        "    # Boşluk varsa normal ayır\n",
        "    if ' ' in cleaned:\n",
        "        parts = cleaned.split(' ', 1)\n",
        "        return pd.Series([parts[0], parts[1]])\n",
        "    else:\n",
        "        # Boşluk yok -- büyük harf ayır\n",
        "        parts = re.findall(r'[A-Z][a-z]*', cleaned)\n",
        "        if len(parts) >= 2:\n",
        "            return pd.Series([parts[0], ' '.join(parts[1:])])\n",
        "        elif len(parts) == 1:\n",
        "            return pd.Series([parts[0], 'Bilinmiyor'])\n",
        "        else:\n",
        "            return pd.Series(['Bilinmiyor', 'Bilinmiyor'])\n",
        "\n",
        "df[['name', 'surname']] = df['name'].apply(akilli_temiz_ayir)"
      ],
      "metadata": {
        "id": "HCKlEzSxbFZs"
      },
      "execution_count": 4,
      "outputs": []
    },
    {
      "cell_type": "code",
      "source": [
        "print(df[['id', 'name', 'surname']])"
      ],
      "metadata": {
        "id": "lYH_8jTkcX6L"
      },
      "execution_count": null,
      "outputs": []
    },
    {
      "cell_type": "code",
      "source": [
        "# Format maskeleme\n",
        "mask_dd_mm_yyyy = df['date'].str.match(r'\\d{2}/\\d{2}/\\d{4}', na=False)\n",
        "mask_yyyy_mm_dd = df['date'].str.match(r'\\d{4}/\\d{2}/\\d{2}', na=False)\n",
        "mask_iso = df['date'].str.contains('-', na=False)\n",
        "\n",
        "# Format bazlı dönüşüm\n",
        "df.loc[mask_dd_mm_yyyy, 'date'] = pd.to_datetime(df.loc[mask_dd_mm_yyyy, 'date'], format='%d/%m/%Y', errors='coerce')\n",
        "df.loc[mask_yyyy_mm_dd, 'date'] = pd.to_datetime(df.loc[mask_yyyy_mm_dd, 'date'], format='%Y/%m/%d', errors='coerce')\n",
        "df.loc[mask_iso, 'date'] = pd.to_datetime(df.loc[mask_iso, 'date'], format='%Y-%m-%d', errors='coerce')\n",
        "\n",
        "# Kalanlar için genel dönüşüm\n",
        "df['date'] = pd.to_datetime(df['date'], errors='coerce')\n",
        "\n",
        "df['date'] = df['date'].dt.date"
      ],
      "metadata": {
        "id": "PJMg6WUYbHZm"
      },
      "execution_count": 6,
      "outputs": []
    },
    {
      "cell_type": "code",
      "source": [
        "print(df[['date']])"
      ],
      "metadata": {
        "id": "5Hsbzit-coDI"
      },
      "execution_count": null,
      "outputs": []
    },
    {
      "cell_type": "code",
      "source": [
        "# Boş string\n",
        "df['city'] = df['city'].replace('', pd.NA)\n",
        "df['city'] = df['city'].fillna('Bilinmiyor')"
      ],
      "metadata": {
        "id": "Qwp4L9_HbIEy"
      },
      "execution_count": 8,
      "outputs": []
    },
    {
      "cell_type": "code",
      "source": [
        "print(df[['city']])"
      ],
      "metadata": {
        "id": "wrfZi9HecsbZ"
      },
      "execution_count": null,
      "outputs": []
    },
    {
      "cell_type": "code",
      "source": [
        "# Boşlukları sil-sayıya çevir-tam sayı yap\n",
        "df['harcama'] = df['harcama'].astype(str).str.replace(' ', '')\n",
        "df['harcama'] = pd.to_numeric(df['harcama'], errors='coerce')\n",
        "df['harcama'] = df['harcama'].astype(int)\n"
      ],
      "metadata": {
        "id": "vMnzfrrVbJ-t"
      },
      "execution_count": 10,
      "outputs": []
    },
    {
      "cell_type": "code",
      "source": [
        "print(df[['harcama']])"
      ],
      "metadata": {
        "id": "CFeQc-eycw0z"
      },
      "execution_count": null,
      "outputs": []
    },
    {
      "cell_type": "code",
      "source": [
        "pd.set_option('display.max_rows', None)\n",
        "pd.set_option('display.max_columns', None)\n",
        "pd.set_option('display.width', None)\n",
        "pd.set_option('display.max_colwidth', None)\n",
        "\n",
        "print(df)\n",
        "\n",
        "print(\"Boş name:\", df['name'].eq('Bilinmiyor').sum())\n",
        "print(\"Boş surname:\", df['surname'].eq('Bilinmiyor').sum())\n",
        "print(\"Eksik city:\", df['city'].isnull().sum())\n",
        "print(\"Eksik date:\", df['date'].isnull().sum())\n",
        "print(\"Eksik harcama:\", df['harcama'].isnull().sum())"
      ],
      "metadata": {
        "id": "kvRj0avWbLPU"
      },
      "execution_count": null,
      "outputs": []
    },
    {
      "cell_type": "code",
      "source": [
        "import matplotlib.pyplot as plt\n",
        "\n",
        "# Şehirlere göre toplam harcama\n",
        "city_harcama = df.groupby('city')['harcama'].sum().sort_values(ascending=False)\n",
        "\n",
        "# Bar Grafik\n",
        "plt.figure(figsize=(10,6))\n",
        "city_harcama.plot(kind='bar')\n",
        "plt.title('Şehirlere Göre Toplam Harcama')\n",
        "plt.ylabel('Toplam Harcama')\n",
        "plt.xlabel('Şehir')\n",
        "plt.tight_layout()\n",
        "plt.show()\n"
      ],
      "metadata": {
        "colab": {
          "base_uri": "https://localhost:8080/",
          "height": 607
        },
        "id": "CkLHN9QKdHWl",
        "outputId": "2eceba6e-d946-4efa-e4ee-a5d9e8b4c4d8"
      },
      "execution_count": 13,
      "outputs": [
        {
          "output_type": "display_data",
          "data": {
            "text/plain": [
              "<Figure size 1000x600 with 1 Axes>"
            ],
            "image/png": "[encoded data removed]"
          },
          "metadata": {}
        }
      ]
    },
    {
      "cell_type": "code",
      "source": [
        "from sklearn.preprocessing import StandardScaler\n",
        "\n",
        "scaler = StandardScaler()\n",
        "df['harcama_standardized'] = scaler.fit_transform(df[['harcama']])\n",
        "\n",
        "print(df[['harcama', 'harcama_standardized']].head())\n"
      ],
      "metadata": {
        "id": "JQNaOW_eb-g8"
      },
      "execution_count": null,
      "outputs": []
    },
    {
      "cell_type": "code",
      "source": [
        "from sklearn.linear_model import LinearRegression\n",
        "\n",
        "# Özellikler ve hedef değişkeni ayırma\n",
        "X = df[['harcama_standardized']]  # Özellikler\n",
        "y = df['harcama']  # Hedef değişken\n",
        "\n",
        "# Modeli başlat ve eğit\n",
        "model = LinearRegression()\n",
        "model.fit(X, y)\n"
      ],
      "metadata": {
        "id": "PYded656WZL5"
      },
      "execution_count": null,
      "outputs": []
    },
    {
      "cell_type": "code",
      "source": [
        "from sklearn.metrics import mean_squared_error, r2_score\n",
        "\n",
        "# Test verisiyle tahmin\n",
        "y_pred = model.predict(X)\n",
        "\n",
        "# Metriklerin hesaplanması\n",
        "mse = mean_squared_error(y, y_pred)\n",
        "r2 = r2_score(y, y_pred)\n",
        "\n",
        "print(f\"MSE: {mse}\")\n",
        "print(f\"R2 Score: {r2}\")\n"
      ],
      "metadata": {
        "id": "il_TL_40WqX-"
      },
      "execution_count": null,
      "outputs": []
    },
    {
      "cell_type": "code",
      "source": [
        "from sklearn.model_selection import cross_val_score\n",
        "\n",
        "# Modelin çapraz doğrulama ile test edilmesi\n",
        "cv_scores = cross_val_score(model, X, y, cv=5)  # cv=5 5 katlı çapraz doğrulama\n",
        "print(f\"Çapraz Doğrulama Skorları: {cv_scores}\")\n",
        "print(f\"Ortalama Çapraz Doğrulama Skoru: {cv_scores.mean()}\")\n"
      ],
      "metadata": {
        "id": "nM3XGDecXKTJ"
      },
      "execution_count": null,
      "outputs": []
    },
    {
      "cell_type": "code",
      "source": [
        "df.to_csv('new_dataset.csv', sep=';', index=False)"
      ],
      "metadata": {
        "id": "09YOSuKNcHhx"
      },
      "execution_count": 18,
      "outputs": []
    }
  ]
}